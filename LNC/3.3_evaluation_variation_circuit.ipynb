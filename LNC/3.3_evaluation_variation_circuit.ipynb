{
 "cells": [
  {
   "cell_type": "code",
   "execution_count": 1,
   "metadata": {},
   "outputs": [],
   "source": [
    "# packages\n",
    "import sys\n",
    "import os\n",
    "import math\n",
    "import torch\n",
    "import random\n",
    "import pickle\n",
    "import calendar\n",
    "import numpy as np\n",
    "import config\n",
    "import training \n",
    "import matplotlib.pyplot as plt\n",
    "import evaluation as E\n",
    "from torch.utils.data import TensorDataset, DataLoader\n",
    "os.environ['KMP_DUPLICATE_LIB_OK']='True'\n",
    "torch.set_default_tensor_type(torch.FloatTensor)"
   ]
  },
  {
   "cell_type": "code",
   "execution_count": 2,
   "metadata": {},
   "outputs": [
    {
     "data": {
      "text/plain": [
       "['Dataset_acuteinflammation.p',\n",
       " 'Dataset_balancescale.p',\n",
       " 'Dataset_breastcancerwisc.p',\n",
       " 'Dataset_cardiotocography3clases.p',\n",
       " 'Dataset_energyy1.p',\n",
       " 'Dataset_energyy2.p',\n",
       " 'Dataset_iris.p',\n",
       " 'Dataset_mammographic.p',\n",
       " 'Dataset_pendigits.p',\n",
       " 'Dataset_seeds.p',\n",
       " 'Dataset_tictactoe.p',\n",
       " 'Dataset_vertebralcolumn2clases.p',\n",
       " 'Dataset_vertebralcolumn3clases.p']"
      ]
     },
     "execution_count": 2,
     "metadata": {},
     "output_type": "execute_result"
    }
   ],
   "source": [
    "datasets = os.listdir('./dataset')\n",
    "datasets = [f for f in datasets if (f.startswith('Dataset') and f.endswith('.p'))]\n",
    "datasets.sort()\n",
    "datasets"
   ]
  },
  {
   "cell_type": "code",
   "execution_count": 3,
   "metadata": {},
   "outputs": [],
   "source": [
    "learning = 2"
   ]
  },
  {
   "cell_type": "code",
   "execution_count": 4,
   "metadata": {},
   "outputs": [],
   "source": [
    "seeds = [1, 2, 3, 4, 5, 6, 7, 8, 9, 10]\n",
    "lr_rts = [0.005, 0.]\n",
    "train_epsilons = [0., 0.05, 0.1]\n",
    "test_epsilons = [0.05, 0.1]\n",
    "strategies = [0]\n",
    "Es = [0]"
   ]
  },
  {
   "cell_type": "markdown",
   "metadata": {},
   "source": [
    "# Evaluation"
   ]
  },
  {
   "cell_type": "code",
   "execution_count": 5,
   "metadata": {},
   "outputs": [],
   "source": [
    "results = torch.zeros([13, 10, 2, 3, 2, 1, 1, 2])"
   ]
  },
  {
   "cell_type": "code",
   "execution_count": 6,
   "metadata": {},
   "outputs": [
    {
     "name": "stdout",
     "output_type": "stream",
     "text": [
      "Dataset_acuteinflammation.p\n",
      "Dataset_balancescale.p\n",
      "Dataset_breastcancerwisc.p\n",
      "Dataset_cardiotocography3clases.p\n",
      "Dataset_energyy1.p\n",
      "Dataset_energyy2.p\n",
      "Dataset_iris.p\n",
      "Dataset_mammographic.p\n",
      "Dataset_pendigits.p\n",
      "Dataset_seeds.p\n",
      "Dataset_tictactoe.p\n",
      "Dataset_vertebralcolumn2clases.p\n",
      "Dataset_vertebralcolumn3clases.p\n"
     ]
    }
   ],
   "source": [
    "for i, dataset in enumerate(datasets):\n",
    "    print(dataset)\n",
    "    for j, seed in enumerate(seeds):\n",
    "        for k, lr_rt in enumerate(lr_rts):\n",
    "            for l, train_epsilon in enumerate(train_epsilons):\n",
    "                for m, test_epsilon in enumerate(test_epsilons):\n",
    "                    for n, strategy in enumerate(strategies):\n",
    "                        datapath = os.path.join(f'./dataset/{dataset}')\n",
    "                        with open(datapath, 'rb') as f:\n",
    "                            data = pickle.load(f)\n",
    "                        X_train    = data['X_train']\n",
    "                        y_train    = data['y_train']\n",
    "                        X_valid    = data['X_valid']\n",
    "                        y_valid    = data['y_valid']\n",
    "                        X_test     = data['X_test']\n",
    "                        y_test     = data['y_test']\n",
    "                        data_name  = data['name']\n",
    "\n",
    "                        setup = f'dataset:{data_name}_epsilon:{train_epsilon}_strategy:{strategy}_learning:{learning}_lr_rt:{lr_rt}_seed:{seed}'\n",
    "\n",
    "                        model = torch.load(f'./results_variation_circuit/pNN_{setup}')\n",
    "                        model.SetParameter('N', config.N_test)\n",
    "                        model.SetParameter('epsilon', test_epsilon)\n",
    "                        \n",
    "                        for o, e in enumerate(Es):\n",
    "                            if o==0:\n",
    "                                acc, std = E.BASIC_variation(model, X_test, y_test)\n",
    "                            elif o==1:\n",
    "                                acc, std = E.MAA_variation(model, X_test, y_test)\n",
    "                            results[i,j,k,l,m,n,o,0], results[i,j,k,l,m,n,o,1] = acc, std"
   ]
  },
  {
   "cell_type": "code",
   "execution_count": 7,
   "metadata": {},
   "outputs": [],
   "source": [
    "torch.save(results, f'./results_for_paper/EvaluationMatrix_{learning}')"
   ]
  },
  {
   "cell_type": "code",
   "execution_count": 8,
   "metadata": {},
   "outputs": [
    {
     "data": {
      "text/plain": [
       "torch.Size([13, 10, 2, 3, 2, 1, 1, 2])"
      ]
     },
     "execution_count": 8,
     "metadata": {},
     "output_type": "execute_result"
    }
   ],
   "source": [
    "results = torch.load(f'./results_for_paper/EvaluationMatrix_{learning}')\n",
    "results.shape"
   ]
  },
  {
   "cell_type": "markdown",
   "metadata": {},
   "source": [
    "select strategy and metric"
   ]
  },
  {
   "cell_type": "code",
   "execution_count": 9,
   "metadata": {},
   "outputs": [
    {
     "data": {
      "text/plain": [
       "torch.Size([13, 10, 2, 3, 2, 2])"
      ]
     },
     "execution_count": 9,
     "metadata": {},
     "output_type": "execute_result"
    }
   ],
   "source": [
    "results = results[:,:,:,:,:,0,0,:]\n",
    "results.shape"
   ]
  },
  {
   "cell_type": "code",
   "execution_count": 10,
   "metadata": {},
   "outputs": [
    {
     "data": {
      "text/plain": [
       "torch.Size([13, 10, 3, 2, 2])"
      ]
     },
     "execution_count": 10,
     "metadata": {},
     "output_type": "execute_result"
    }
   ],
   "source": [
    "results_learnable = results[:,:,0,:,:,:]\n",
    "results_learnable.shape"
   ]
  },
  {
   "cell_type": "code",
   "execution_count": 11,
   "metadata": {},
   "outputs": [
    {
     "data": {
      "text/plain": [
       "torch.Size([13, 10, 3, 2, 2])"
      ]
     },
     "execution_count": 11,
     "metadata": {},
     "output_type": "execute_result"
    }
   ],
   "source": [
    "results_nonlearnable = results[:,:,1,:,:,:]\n",
    "results_nonlearnable.shape"
   ]
  },
  {
   "cell_type": "markdown",
   "metadata": {},
   "source": [
    "# record results"
   ]
  },
  {
   "cell_type": "code",
   "execution_count": 12,
   "metadata": {},
   "outputs": [],
   "source": [
    "final_results = np.zeros([13,2,4,2])"
   ]
  },
  {
   "cell_type": "code",
   "execution_count": 13,
   "metadata": {},
   "outputs": [],
   "source": [
    "def find_best(results):\n",
    "    best_seed = torch.argmax(results[:,:,0], dim=1)\n",
    "    temp = []\n",
    "    for i, j in zip(range(13),best_seed):\n",
    "        temp.append(results[i,j,:].numpy())\n",
    "    return np.array(temp)"
   ]
  },
  {
   "cell_type": "markdown",
   "metadata": {},
   "source": [
    "## variation + learnable"
   ]
  },
  {
   "cell_type": "markdown",
   "metadata": {},
   "source": [
    "5% variation"
   ]
  },
  {
   "cell_type": "code",
   "execution_count": 14,
   "metadata": {},
   "outputs": [],
   "source": [
    "final_results[:,:,0,0] = find_best(results_learnable[:, :, 1, 0, :])"
   ]
  },
  {
   "cell_type": "markdown",
   "metadata": {},
   "source": [
    "10% variation"
   ]
  },
  {
   "cell_type": "code",
   "execution_count": 15,
   "metadata": {},
   "outputs": [],
   "source": [
    "final_results[:,:,0,1] = find_best(results_learnable[:, :, 2, 1, :])"
   ]
  },
  {
   "cell_type": "markdown",
   "metadata": {},
   "source": [
    "## nominal + learnable"
   ]
  },
  {
   "cell_type": "markdown",
   "metadata": {},
   "source": [
    "5% variation"
   ]
  },
  {
   "cell_type": "code",
   "execution_count": 16,
   "metadata": {},
   "outputs": [],
   "source": [
    "final_results[:,:,1,0] = find_best(results_learnable[:, :, 0, 0, :])"
   ]
  },
  {
   "cell_type": "markdown",
   "metadata": {},
   "source": [
    "10% variation"
   ]
  },
  {
   "cell_type": "code",
   "execution_count": 17,
   "metadata": {},
   "outputs": [],
   "source": [
    "final_results[:,:,1,1] = find_best(results_learnable[:, :, 0, 1, :])"
   ]
  },
  {
   "cell_type": "markdown",
   "metadata": {},
   "source": [
    "## variation + non-learnable"
   ]
  },
  {
   "cell_type": "markdown",
   "metadata": {},
   "source": [
    "5% variation"
   ]
  },
  {
   "cell_type": "code",
   "execution_count": 18,
   "metadata": {},
   "outputs": [],
   "source": [
    "final_results[:,:,2,0] = find_best(results_nonlearnable[:, :, 1, 0, :])"
   ]
  },
  {
   "cell_type": "markdown",
   "metadata": {},
   "source": [
    "10% variation"
   ]
  },
  {
   "cell_type": "code",
   "execution_count": 19,
   "metadata": {},
   "outputs": [],
   "source": [
    "final_results[:,:,2,1] = find_best(results_nonlearnable[:, :, 2, 1, :])"
   ]
  },
  {
   "cell_type": "markdown",
   "metadata": {},
   "source": [
    "## non-variation + non-learnable"
   ]
  },
  {
   "cell_type": "markdown",
   "metadata": {},
   "source": [
    "5% variation"
   ]
  },
  {
   "cell_type": "code",
   "execution_count": 20,
   "metadata": {},
   "outputs": [],
   "source": [
    "final_results[:,:,3,0] = find_best(results_nonlearnable[:, :, 0, 0, :])"
   ]
  },
  {
   "cell_type": "markdown",
   "metadata": {},
   "source": [
    "10% variation"
   ]
  },
  {
   "cell_type": "code",
   "execution_count": 21,
   "metadata": {},
   "outputs": [],
   "source": [
    "final_results[:,:,3,1] = find_best(results_nonlearnable[:, :, 0, 1, :])"
   ]
  },
  {
   "cell_type": "markdown",
   "metadata": {},
   "source": [
    "# final_results = [dataset, performance, experiment, variance]\n",
    "13 datasets\n",
    "\n",
    "2 performance: mean, std \n",
    "\n",
    "3 experiments: both, only lnc, only variation aware, neither\n",
    "\n",
    "2 variances: 5% 10%"
   ]
  },
  {
   "cell_type": "markdown",
   "metadata": {},
   "source": [
    "## Compare ablation study"
   ]
  },
  {
   "cell_type": "code",
   "execution_count": 22,
   "metadata": {},
   "outputs": [],
   "source": [
    "np.savetxt(f'./results_for_paper/mean_5%_ACC_{learning}.txt', final_results[:,0,:,0], fmt='%.5f', delimiter='\\t')\n",
    "np.savetxt(f'./results_for_paper/std_5%_ACC_{learning}.txt', final_results[:,1,:,0], fmt='%.5f', delimiter='\\t')\n",
    "np.savetxt(f'./results_for_paper/mean_10%_ACC_{learning}.txt', final_results[:,0,:,1], fmt='%.5f', delimiter='\\t')\n",
    "np.savetxt(f'./results_for_paper/std_10%_ACC_{learning}.txt', final_results[:,1,:,1], fmt='%.5f', delimiter='\\t')"
   ]
  },
  {
   "cell_type": "code",
   "execution_count": 25,
   "metadata": {},
   "outputs": [
    {
     "data": {
      "text/plain": [
       "array([[1.        , 0.98199999, 0.92000002, 0.80320001],\n",
       "       [0.88039684, 0.82944447, 0.84880954, 0.83515871],\n",
       "       [0.96107143, 0.96421427, 0.93057144, 0.92957145],\n",
       "       [0.76819247, 0.79983568, 0.7725352 , 0.77654928],\n",
       "       [0.87792206, 0.89597404, 0.83766234, 0.81831169],\n",
       "       [0.87279218, 0.86305195, 0.75415581, 0.72727275],\n",
       "       [0.93064517, 0.84612906, 0.8429032 , 0.59225804],\n",
       "       [0.77580309, 0.64917099, 0.74238342, 0.62284976],\n",
       "       [0.59996361, 0.49457482, 0.47691223, 0.27465665],\n",
       "       [0.76720929, 0.76279068, 0.57976747, 0.37186047],\n",
       "       [0.63020831, 0.73677081, 0.63109374, 0.63020831],\n",
       "       [0.6630159 , 0.72428572, 0.68555558, 0.68333334],\n",
       "       [0.71111113, 0.55428571, 0.5177778 , 0.55746031]])"
      ]
     },
     "execution_count": 25,
     "metadata": {},
     "output_type": "execute_result"
    }
   ],
   "source": [
    "final_results[:,0,:,0]"
   ]
  },
  {
   "cell_type": "code",
   "execution_count": 26,
   "metadata": {},
   "outputs": [
    {
     "data": {
      "text/plain": [
       "array([[1.        , 0.91960001, 0.87919998, 0.79680002],\n",
       "       [0.88111109, 0.77658731, 0.81753969, 0.70039684],\n",
       "       [0.95264286, 0.92607141, 0.91628569, 0.89042854],\n",
       "       [0.76291078, 0.71312207, 0.77046949, 0.77171361],\n",
       "       [0.85402596, 0.87389612, 0.83655846, 0.73285717],\n",
       "       [0.86532468, 0.79292208, 0.72766232, 0.72785717],\n",
       "       [0.9029032 , 0.77387094, 0.78161293, 0.51290321],\n",
       "       [0.7812435 , 0.59119171, 0.69673574, 0.58740932],\n",
       "       [0.56505686, 0.37902227, 0.3227649 , 0.19977263],\n",
       "       [0.83744186, 0.71906978, 0.75837207, 0.34627905],\n",
       "       [0.63026041, 0.63109374, 0.63401043, 0.63020831],\n",
       "       [0.63492066, 0.69555557, 0.67888892, 0.62714285],\n",
       "       [0.64492065, 0.50174606, 0.58190477, 0.50793654]])"
      ]
     },
     "execution_count": 26,
     "metadata": {},
     "output_type": "execute_result"
    }
   ],
   "source": [
    "final_results[:,0,:,1]"
   ]
  },
  {
   "cell_type": "code",
   "execution_count": null,
   "metadata": {},
   "outputs": [],
   "source": []
  }
 ],
 "metadata": {
  "kernelspec": {
   "display_name": "SDIL",
   "language": "python",
   "name": "sdil"
  },
  "language_info": {
   "codemirror_mode": {
    "name": "ipython",
    "version": 3
   },
   "file_extension": ".py",
   "mimetype": "text/x-python",
   "name": "python",
   "nbconvert_exporter": "python",
   "pygments_lexer": "ipython3",
   "version": "3.8.13"
  },
  "toc": {
   "base_numbering": 1,
   "nav_menu": {},
   "number_sections": true,
   "sideBar": true,
   "skip_h1_title": false,
   "title_cell": "Table of Contents",
   "title_sidebar": "Contents",
   "toc_cell": false,
   "toc_position": {},
   "toc_section_display": true,
   "toc_window_display": false
  }
 },
 "nbformat": 4,
 "nbformat_minor": 4
}
