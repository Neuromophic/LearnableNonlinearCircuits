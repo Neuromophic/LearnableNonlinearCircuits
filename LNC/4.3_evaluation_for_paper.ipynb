{
 "cells": [
  {
   "cell_type": "code",
   "execution_count": 1,
   "metadata": {},
   "outputs": [],
   "source": [
    "# packages\n",
    "import sys\n",
    "import os\n",
    "import math\n",
    "import torch\n",
    "import random\n",
    "import pickle\n",
    "import calendar\n",
    "import numpy as np\n",
    "import config\n",
    "import training \n",
    "import matplotlib.pyplot as plt\n",
    "import evaluation as E\n",
    "from torch.utils.data import TensorDataset, DataLoader\n",
    "os.environ['KMP_DUPLICATE_LIB_OK']='True'\n",
    "torch.set_default_tensor_type(torch.FloatTensor)"
   ]
  },
  {
   "cell_type": "code",
   "execution_count": 2,
   "metadata": {},
   "outputs": [
    {
     "data": {
      "text/plain": [
       "['Dataset_acuteinflammation.p',\n",
       " 'Dataset_balancescale.p',\n",
       " 'Dataset_breastcancerwisc.p',\n",
       " 'Dataset_cardiotocography3clases.p',\n",
       " 'Dataset_energyy1.p',\n",
       " 'Dataset_energyy2.p',\n",
       " 'Dataset_iris.p',\n",
       " 'Dataset_mammographic.p',\n",
       " 'Dataset_pendigits.p',\n",
       " 'Dataset_seeds.p',\n",
       " 'Dataset_tictactoe.p',\n",
       " 'Dataset_vertebralcolumn2clases.p',\n",
       " 'Dataset_vertebralcolumn3clases.p']"
      ]
     },
     "execution_count": 2,
     "metadata": {},
     "output_type": "execute_result"
    }
   ],
   "source": [
    "datasets = os.listdir('./dataset')\n",
    "datasets = [f for f in datasets if (f.startswith('Dataset') and f.endswith('.p'))]\n",
    "datasets.sort()\n",
    "datasets"
   ]
  },
  {
   "cell_type": "code",
   "execution_count": 3,
   "metadata": {},
   "outputs": [],
   "source": [
    "seeds = [1, 2, 3, 4, 5, 6, 7, 8, 9, 10]\n",
    "lr_rts = [0.005, 0.]\n",
    "train_epsilons = [0., 0.05, 0.1]\n",
    "test_epsilons = [0.05, 0.1]"
   ]
  },
  {
   "cell_type": "markdown",
   "metadata": {},
   "source": [
    "# Evaluation"
   ]
  },
  {
   "cell_type": "code",
   "execution_count": 4,
   "metadata": {},
   "outputs": [],
   "source": [
    "results = torch.zeros([13, 10, 2, 3, 2, 2])"
   ]
  },
  {
   "cell_type": "code",
   "execution_count": 5,
   "metadata": {},
   "outputs": [
    {
     "name": "stdout",
     "output_type": "stream",
     "text": [
      "Dataset_acuteinflammation.p\n",
      "Dataset_balancescale.p\n",
      "Dataset_breastcancerwisc.p\n",
      "Dataset_cardiotocography3clases.p\n",
      "Dataset_energyy1.p\n",
      "Dataset_energyy2.p\n",
      "Dataset_iris.p\n",
      "Dataset_mammographic.p\n",
      "Dataset_pendigits.p\n",
      "Dataset_seeds.p\n",
      "Dataset_tictactoe.p\n",
      "Dataset_vertebralcolumn2clases.p\n",
      "Dataset_vertebralcolumn3clases.p\n"
     ]
    }
   ],
   "source": [
    "for i, dataset in enumerate(datasets):\n",
    "    print(dataset)\n",
    "    for j, seed in enumerate(seeds):\n",
    "        for k, lr_rt in enumerate(lr_rts):\n",
    "            for l, train_epsilon in enumerate(train_epsilons):\n",
    "                for m, test_epsilon in enumerate(test_epsilons):\n",
    "                    datapath = os.path.join(f'./dataset/{dataset}')\n",
    "                    with open(datapath, 'rb') as f:\n",
    "                        data = pickle.load(f)\n",
    "                    X_train    = data['X_train']\n",
    "                    y_train    = data['y_train']\n",
    "                    X_valid    = data['X_valid']\n",
    "                    y_valid    = data['y_valid']\n",
    "                    X_test     = data['X_test']\n",
    "                    y_test     = data['y_test']\n",
    "                    data_name  = data['name']\n",
    "\n",
    "                    setup = f'dataset:{data_name}_epsilon:{train_epsilon}_lr_rt:{lr_rt}_seed:{seed}'\n",
    "\n",
    "                    model = torch.load(f'./report/pNN_{setup}')\n",
    "                    model.SetParameter('N', config.N_test)\n",
    "                    model.SetParameter('epsilon', test_epsilon)\n",
    "\n",
    "                    acc, std = E.BASIC_variation(model, X_test, y_test)\n",
    "                    results[i,j,k,l,m,0], results[i,j,k,l,m,1] = acc, std"
   ]
  },
  {
   "cell_type": "code",
   "execution_count": 6,
   "metadata": {},
   "outputs": [],
   "source": [
    "# torch.save(results, f'./report/EvaluationMatrix')"
   ]
  },
  {
   "cell_type": "code",
   "execution_count": 7,
   "metadata": {},
   "outputs": [],
   "source": [
    "# results = torch.load(f'./results_for_paper/EvaluationMatrix')\n",
    "# results.shape"
   ]
  },
  {
   "cell_type": "code",
   "execution_count": 8,
   "metadata": {},
   "outputs": [
    {
     "data": {
      "text/plain": [
       "torch.Size([13, 10, 3, 2, 2])"
      ]
     },
     "execution_count": 8,
     "metadata": {},
     "output_type": "execute_result"
    }
   ],
   "source": [
    "results_learnable = results[:,:,0,:,:,:]\n",
    "results_learnable.shape"
   ]
  },
  {
   "cell_type": "code",
   "execution_count": 9,
   "metadata": {},
   "outputs": [
    {
     "data": {
      "text/plain": [
       "torch.Size([13, 10, 3, 2, 2])"
      ]
     },
     "execution_count": 9,
     "metadata": {},
     "output_type": "execute_result"
    }
   ],
   "source": [
    "results_nonlearnable = results[:,:,1,:,:,:]\n",
    "results_nonlearnable.shape"
   ]
  },
  {
   "cell_type": "markdown",
   "metadata": {},
   "source": [
    "# record results"
   ]
  },
  {
   "cell_type": "code",
   "execution_count": 10,
   "metadata": {},
   "outputs": [],
   "source": [
    "final_results = np.zeros([13,2,4,2])"
   ]
  },
  {
   "cell_type": "code",
   "execution_count": 11,
   "metadata": {},
   "outputs": [],
   "source": [
    "def find_best(results):\n",
    "    best_seed = torch.argmax(results[:,:,0], dim=1)\n",
    "    temp = []\n",
    "    for i, j in zip(range(13),best_seed):\n",
    "        temp.append(results[i,j,:].numpy())\n",
    "    return np.array(temp)"
   ]
  },
  {
   "cell_type": "markdown",
   "metadata": {},
   "source": [
    "## variation + learnable"
   ]
  },
  {
   "cell_type": "markdown",
   "metadata": {},
   "source": [
    "5% variation"
   ]
  },
  {
   "cell_type": "code",
   "execution_count": 12,
   "metadata": {},
   "outputs": [],
   "source": [
    "final_results[:,:,0,0] = find_best(results_learnable[:, :, 1, 0, :])"
   ]
  },
  {
   "cell_type": "markdown",
   "metadata": {},
   "source": [
    "10% variation"
   ]
  },
  {
   "cell_type": "code",
   "execution_count": 13,
   "metadata": {},
   "outputs": [],
   "source": [
    "final_results[:,:,0,1] = find_best(results_learnable[:, :, 2, 1, :])"
   ]
  },
  {
   "cell_type": "markdown",
   "metadata": {},
   "source": [
    "## nominal + learnable"
   ]
  },
  {
   "cell_type": "markdown",
   "metadata": {},
   "source": [
    "5% variation"
   ]
  },
  {
   "cell_type": "code",
   "execution_count": 14,
   "metadata": {},
   "outputs": [],
   "source": [
    "final_results[:,:,1,0] = find_best(results_learnable[:, :, 0, 0, :])"
   ]
  },
  {
   "cell_type": "markdown",
   "metadata": {},
   "source": [
    "10% variation"
   ]
  },
  {
   "cell_type": "code",
   "execution_count": 15,
   "metadata": {},
   "outputs": [],
   "source": [
    "final_results[:,:,1,1] = find_best(results_learnable[:, :, 0, 1, :])"
   ]
  },
  {
   "cell_type": "markdown",
   "metadata": {},
   "source": [
    "## variation + non-learnable"
   ]
  },
  {
   "cell_type": "markdown",
   "metadata": {},
   "source": [
    "5% variation"
   ]
  },
  {
   "cell_type": "code",
   "execution_count": 16,
   "metadata": {},
   "outputs": [],
   "source": [
    "final_results[:,:,2,0] = find_best(results_nonlearnable[:, :, 1, 0, :])"
   ]
  },
  {
   "cell_type": "markdown",
   "metadata": {},
   "source": [
    "10% variation"
   ]
  },
  {
   "cell_type": "code",
   "execution_count": 17,
   "metadata": {},
   "outputs": [],
   "source": [
    "final_results[:,:,2,1] = find_best(results_nonlearnable[:, :, 2, 1, :])"
   ]
  },
  {
   "cell_type": "markdown",
   "metadata": {},
   "source": [
    "## non-variation + non-learnable"
   ]
  },
  {
   "cell_type": "markdown",
   "metadata": {},
   "source": [
    "5% variation"
   ]
  },
  {
   "cell_type": "code",
   "execution_count": 18,
   "metadata": {},
   "outputs": [],
   "source": [
    "final_results[:,:,3,0] = find_best(results_nonlearnable[:, :, 0, 0, :])"
   ]
  },
  {
   "cell_type": "markdown",
   "metadata": {},
   "source": [
    "10% variation"
   ]
  },
  {
   "cell_type": "code",
   "execution_count": 19,
   "metadata": {},
   "outputs": [],
   "source": [
    "final_results[:,:,3,1] = find_best(results_nonlearnable[:, :, 0, 1, :])"
   ]
  },
  {
   "cell_type": "markdown",
   "metadata": {},
   "source": [
    "# final_results = [dataset, performance, experiment, variance]\n",
    "13 datasets\n",
    "\n",
    "2 performance: mean, std \n",
    "\n",
    "3 experiments: both, only lnc, only variation aware, neither\n",
    "\n",
    "2 variances: 5% 10%"
   ]
  },
  {
   "cell_type": "markdown",
   "metadata": {},
   "source": [
    "## Compare ablation study"
   ]
  },
  {
   "cell_type": "code",
   "execution_count": 20,
   "metadata": {},
   "outputs": [],
   "source": [
    "np.savetxt(f'./report/result_mean_5%_ACC.txt',  final_results[:,0,:,0], fmt='%.5f', delimiter='\\t')\n",
    "np.savetxt(f'./report/result_std_5%_ACC.txt',   final_results[:,1,:,0], fmt='%.5f', delimiter='\\t')\n",
    "np.savetxt(f'./report/result_mean_10%_ACC.txt', final_results[:,0,:,1], fmt='%.5f', delimiter='\\t')\n",
    "np.savetxt(f'./report/result_std_10%_ACC.txt',  final_results[:,1,:,1], fmt='%.5f', delimiter='\\t')"
   ]
  },
  {
   "cell_type": "code",
   "execution_count": 21,
   "metadata": {},
   "outputs": [
    {
     "data": {
      "text/plain": [
       "array([[1.        , 0.95560002, 0.89120001, 0.80000001],\n",
       "       [0.87992066, 0.86984128, 0.77817458, 0.80976188],\n",
       "       [0.96292859, 0.95071429, 0.92435712, 0.90735716],\n",
       "       [0.7636385 , 0.76802814, 0.7727465 , 0.7751174 ],\n",
       "       [0.87149352, 0.88876623, 0.83766234, 0.81558442],\n",
       "       [0.88292205, 0.83681816, 0.72662336, 0.66305196],\n",
       "       [0.91225809, 0.70580643, 0.80709678, 0.72645164],\n",
       "       [0.78248703, 0.61316061, 0.68917096, 0.63005179],\n",
       "       [0.52166438, 0.39124146, 0.36479309, 0.31270123],\n",
       "       [0.75511628, 0.74906975, 0.76604652, 0.51999998],\n",
       "       [0.71291667, 0.6821875 , 0.63302082, 0.63020831],\n",
       "       [0.6363492 , 0.70587301, 0.68190473, 0.68095237],\n",
       "       [0.61873019, 0.61238098, 0.53920633, 0.60206348]])"
      ]
     },
     "execution_count": 21,
     "metadata": {},
     "output_type": "execute_result"
    }
   ],
   "source": [
    "final_results[:,0,:,0]"
   ]
  },
  {
   "cell_type": "code",
   "execution_count": 22,
   "metadata": {},
   "outputs": [
    {
     "data": {
      "text/plain": [
       "array([[0.99879998, 0.88200003, 0.87440002, 0.82080001],\n",
       "       [0.87690479, 0.82420635, 0.68230158, 0.70595241],\n",
       "       [0.93049997, 0.88042855, 0.87764287, 0.86435711],\n",
       "       [0.76323944, 0.6477465 , 0.76753521, 0.75645542],\n",
       "       [0.84662336, 0.83454543, 0.83545452, 0.70857143],\n",
       "       [0.86655843, 0.77227271, 0.7138961 , 0.61532468],\n",
       "       [0.84258062, 0.61709678, 0.73290324, 0.6587097 ],\n",
       "       [0.76554406, 0.56870466, 0.64176166, 0.60906738],\n",
       "       [0.54774445, 0.33079126, 0.25259209, 0.23415643],\n",
       "       [0.8195349 , 0.65604651, 0.71697676, 0.41302326],\n",
       "       [0.65984374, 0.63020831, 0.63447917, 0.63020831],\n",
       "       [0.63492066, 0.65920633, 0.65047622, 0.66555554],\n",
       "       [0.63396823, 0.51396823, 0.56047618, 0.57015872]])"
      ]
     },
     "execution_count": 22,
     "metadata": {},
     "output_type": "execute_result"
    }
   ],
   "source": [
    "final_results[:,0,:,1]"
   ]
  },
  {
   "cell_type": "code",
   "execution_count": null,
   "metadata": {},
   "outputs": [],
   "source": []
  }
 ],
 "metadata": {
  "kernelspec": {
   "display_name": "SDIL",
   "language": "python",
   "name": "sdil"
  },
  "language_info": {
   "codemirror_mode": {
    "name": "ipython",
    "version": 3
   },
   "file_extension": ".py",
   "mimetype": "text/x-python",
   "name": "python",
   "nbconvert_exporter": "python",
   "pygments_lexer": "ipython3",
   "version": "3.8.13"
  },
  "toc": {
   "base_numbering": 1,
   "nav_menu": {},
   "number_sections": true,
   "sideBar": true,
   "skip_h1_title": false,
   "title_cell": "Table of Contents",
   "title_sidebar": "Contents",
   "toc_cell": false,
   "toc_position": {},
   "toc_section_display": true,
   "toc_window_display": false
  }
 },
 "nbformat": 4,
 "nbformat_minor": 4
}
