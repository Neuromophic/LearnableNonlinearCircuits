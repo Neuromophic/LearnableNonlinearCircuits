{
 "cells": [
  {
   "cell_type": "code",
   "execution_count": 1,
   "metadata": {},
   "outputs": [],
   "source": [
    "import os\n",
    "import math\n",
    "import torch\n",
    "import random\n",
    "import pickle\n",
    "import pandas\n",
    "import calendar\n",
    "import numpy as np\n",
    "import matplotlib.pyplot as plt\n",
    "from torch.utils.data import TensorDataset, DataLoader\n",
    "os.environ['KMP_DUPLICATE_LIB_OK']='True'\n",
    "torch.set_default_tensor_type(torch.FloatTensor)\n",
    "import config"
   ]
  },
  {
   "cell_type": "markdown",
   "metadata": {},
   "source": [
    "# Read and process data"
   ]
  },
  {
   "cell_type": "code",
   "execution_count": 2,
   "metadata": {},
   "outputs": [],
   "source": [
    "x = pandas.read_csv(\"./data/inv_RT_ratio.csv\")"
   ]
  },
  {
   "cell_type": "code",
   "execution_count": 3,
   "metadata": {},
   "outputs": [
    {
     "data": {
      "text/plain": [
       "torch.Size([9999, 7])"
      ]
     },
     "execution_count": 3,
     "metadata": {},
     "output_type": "execute_result"
    }
   ],
   "source": [
    "X = []\n",
    "for i in range(9999):\n",
    "    \n",
    "    f1 = x.iloc[i, :]\n",
    "    F = [float(f) for f in f1.to_numpy()]\n",
    "    X.append(F)\n",
    "X = torch.tensor(X)\n",
    "X = X[:,:7]\n",
    "X.shape"
   ]
  },
  {
   "cell_type": "code",
   "execution_count": 4,
   "metadata": {},
   "outputs": [],
   "source": [
    "X_max = torch.max(X, dim=0)[0]\n",
    "X_min = torch.min(X, dim=0)[0]"
   ]
  },
  {
   "cell_type": "code",
   "execution_count": 5,
   "metadata": {},
   "outputs": [
    {
     "data": {
      "text/plain": [
       "tensor([5.0000e+02, 2.5000e+02, 5.0000e+05, 4.0000e+05, 5.0000e+05, 8.0000e-04,\n",
       "        7.0000e-05])"
      ]
     },
     "execution_count": 5,
     "metadata": {},
     "output_type": "execute_result"
    }
   ],
   "source": [
    "X_max"
   ]
  },
  {
   "cell_type": "code",
   "execution_count": 6,
   "metadata": {},
   "outputs": [
    {
     "data": {
      "text/plain": [
       "tensor([1.0000e+01, 5.0000e+00, 1.0000e+04, 8.0000e+03, 1.0000e+04, 2.0000e-04,\n",
       "        1.0000e-05])"
      ]
     },
     "execution_count": 6,
     "metadata": {},
     "output_type": "execute_result"
    }
   ],
   "source": [
    "X_min"
   ]
  },
  {
   "cell_type": "code",
   "execution_count": 7,
   "metadata": {},
   "outputs": [
    {
     "data": {
      "text/plain": [
       "tensor([[0.0000, 0.0000, 0.0000,  ..., 0.0000, 0.0000, 0.0000],\n",
       "        [0.5000, 0.5020, 0.5000,  ..., 0.5000, 0.5000, 0.5000],\n",
       "        [0.7510, 0.2490, 0.2490,  ..., 0.7510, 0.7500, 0.2500],\n",
       "        ...,\n",
       "        [0.3918, 0.0367, 0.3490,  ..., 0.5531, 0.1767, 0.9833],\n",
       "        [0.8918, 0.5388, 0.8490,  ..., 0.0531, 0.6767, 0.4833],\n",
       "        [0.4755, 0.2000, 0.5204,  ..., 0.1816, 0.9950, 0.2833]])"
      ]
     },
     "execution_count": 7,
     "metadata": {},
     "output_type": "execute_result"
    }
   ],
   "source": [
    "Xn = config.Normalization(X, X_min, X_max)\n",
    "Xn"
   ]
  },
  {
   "cell_type": "code",
   "execution_count": 8,
   "metadata": {},
   "outputs": [
    {
     "data": {
      "text/plain": [
       "(tensor(1.), tensor(0.))"
      ]
     },
     "execution_count": 8,
     "metadata": {},
     "output_type": "execute_result"
    }
   ],
   "source": [
    "Xn.max(), Xn.min()"
   ]
  },
  {
   "cell_type": "code",
   "execution_count": 9,
   "metadata": {},
   "outputs": [
    {
     "data": {
      "text/plain": [
       "(9999, 4)"
      ]
     },
     "execution_count": 9,
     "metadata": {},
     "output_type": "execute_result"
    }
   ],
   "source": [
    "y = pandas.read_csv(\"./data/inv_eta.csv\")\n",
    "y.shape"
   ]
  },
  {
   "cell_type": "code",
   "execution_count": 10,
   "metadata": {},
   "outputs": [
    {
     "data": {
      "text/plain": [
       "torch.Size([9999, 4])"
      ]
     },
     "execution_count": 10,
     "metadata": {},
     "output_type": "execute_result"
    }
   ],
   "source": [
    "Y = []\n",
    "for i in range(9999):\n",
    "    \n",
    "    f1 = y.iloc[i, :]\n",
    "    F = [float(f) for f in f1.to_numpy()]\n",
    "    Y.append(F)\n",
    "Y = torch.tensor(Y)\n",
    "Y.shape"
   ]
  },
  {
   "cell_type": "code",
   "execution_count": 11,
   "metadata": {},
   "outputs": [],
   "source": [
    "Y_max = torch.max(Y, dim=0)[0]\n",
    "Y_min = torch.min(Y, dim=0)[0]"
   ]
  },
  {
   "cell_type": "code",
   "execution_count": 12,
   "metadata": {},
   "outputs": [],
   "source": [
    "Yn = config.Normalization(Y, Y_min, Y_max)"
   ]
  },
  {
   "cell_type": "code",
   "execution_count": 13,
   "metadata": {},
   "outputs": [
    {
     "data": {
      "text/plain": [
       "(tensor(1.), tensor(0.))"
      ]
     },
     "execution_count": 13,
     "metadata": {},
     "output_type": "execute_result"
    }
   ],
   "source": [
    "Yn.max(), Yn.min()"
   ]
  },
  {
   "cell_type": "markdown",
   "metadata": {},
   "source": [
    "# Make dataset"
   ]
  },
  {
   "cell_type": "code",
   "execution_count": 14,
   "metadata": {},
   "outputs": [],
   "source": [
    "E_train = int(X.shape[0]*0.7)\n",
    "E_valid = int(X.shape[0]*0.2)\n",
    "E_test  = int(X.shape[0] - E_train - E_valid)\n",
    "\n",
    "config.SetSeed()\n",
    "index = torch.randperm(X.shape[0])\n",
    "index_learn = index[:E_train+E_valid]\n",
    "index_train = index[:E_train]\n",
    "index_valid = index[E_train:E_train+E_valid]\n",
    "index_test  = index[-E_test:]\n",
    "\n",
    "X_learn, Y_learn = X[index_learn,:], Y[index_learn,:]\n",
    "X_train, Y_train = X[index_train,:], Y[index_train,:]\n",
    "X_valid, Y_valid = X[index_valid,:], Y[index_valid,:]\n",
    "X_test,  Y_test  = X[index_test,:] , Y[index_test,:]\n",
    "\n",
    "Xn_learn, Yn_learn = Xn[index_learn,:], Yn[index_learn,:]\n",
    "Xn_train, Yn_train = Xn[index_train,:], Yn[index_train,:]\n",
    "Xn_valid, Yn_valid = Xn[index_valid,:], Yn[index_valid,:]\n",
    "Xn_test,  Yn_test  = Xn[index_test,:] , Yn[index_test,:]"
   ]
  },
  {
   "cell_type": "code",
   "execution_count": 15,
   "metadata": {},
   "outputs": [],
   "source": [
    "a = {'Xn': Xn, 'Yn': Yn, \n",
    "     'X': X,   'Y': Y, \n",
    "     \n",
    "     'Xn_learn': Xn_learn, 'Yn_learn': Yn_learn, \n",
    "     'Xn_train': Xn_train, 'Yn_train': Yn_train, \n",
    "     'Xn_valid': Xn_valid, 'Yn_valid': Yn_valid, \n",
    "     'Xn_test' : Xn_test,  'Yn_test' : Yn_test,\n",
    "     \n",
    "     'X_learn': X_learn, 'Y_learn': Y_learn, \n",
    "     'X_train': X_train, 'Y_train': Y_train, \n",
    "     'X_valid': X_valid, 'Y_valid': Y_valid, \n",
    "     'X_test' : X_test,  'Y_test' : Y_test,\n",
    "     \n",
    "     'X_max':X_max, 'X_min':X_min,\n",
    "     'Y_max':Y_max, 'Y_min':Y_min,}\n",
    "\n",
    "with open('./data/inv_dataset_without_ratio.p', 'wb') as file:\n",
    "    pickle.dump(a, file)\n",
    "with open('../../LNC/dataset/inv_dataset_without_ratio.p', 'wb') as file:\n",
    "    pickle.dump(a, file)"
   ]
  }
 ],
 "metadata": {
  "kernelspec": {
   "display_name": "SDIL",
   "language": "python",
   "name": "sdil"
  },
  "language_info": {
   "codemirror_mode": {
    "name": "ipython",
    "version": 3
   },
   "file_extension": ".py",
   "mimetype": "text/x-python",
   "name": "python",
   "nbconvert_exporter": "python",
   "pygments_lexer": "ipython3",
   "version": "3.8.13"
  },
  "toc": {
   "base_numbering": 1,
   "nav_menu": {},
   "number_sections": true,
   "sideBar": true,
   "skip_h1_title": false,
   "title_cell": "Table of Contents",
   "title_sidebar": "Contents",
   "toc_cell": false,
   "toc_position": {},
   "toc_section_display": true,
   "toc_window_display": false
  }
 },
 "nbformat": 4,
 "nbformat_minor": 4
}
